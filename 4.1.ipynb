{
 "cells": [
  {
   "cell_type": "code",
   "execution_count": 101,
   "metadata": {},
   "outputs": [],
   "source": [
    "from pyeasyga import pyeasyga"
   ]
  },
  {
   "cell_type": "code",
   "execution_count": 123,
   "metadata": {},
   "outputs": [
    {
     "data": {
      "text/plain": [
       "[['218', '1.1', '358'],\n",
       " ['890', '0.7', '238'],\n",
       " ['1319', '0.5', '224'],\n",
       " ['318', '0.5', '339'],\n",
       " ['1453', '0.5', '114'],\n",
       " ['1006', '0.4', '148'],\n",
       " ['1204', '1.0', '319'],\n",
       " ['1579', '1.0', '266'],\n",
       " ['354', '0.6', '180'],\n",
       " ['579', '0.9', '270'],\n",
       " ['1512', '1.2', '380'],\n",
       " ['792', '0.5', '176'],\n",
       " ['988', '1.2', '371'],\n",
       " ['400', '0.7', '164'],\n",
       " ['176', '1.1', '301'],\n",
       " ['179', '0.7', '155'],\n",
       " ['909', '0.7', '374'],\n",
       " ['439', '1.0', '216'],\n",
       " ['1160', '1.1', '371'],\n",
       " ['1350', '0.8', '213'],\n",
       " ['602', '0.4', '293'],\n",
       " ['102', '0.6', '334'],\n",
       " ['1490', '0.7', '121'],\n",
       " ['1507', '0.4', '187'],\n",
       " ['983', '0.9', '185'],\n",
       " ['977', '1.1', '239'],\n",
       " ['1644', '0.8', '183'],\n",
       " ['105', '0.9', '360'],\n",
       " ['524', '0.7', '129'],\n",
       " ['1103', '1.2', '284']]"
      ]
     },
     "execution_count": 123,
     "metadata": {},
     "output_type": "execute_result"
    }
   ],
   "source": [
    "file = open('20.txt')\n",
    "\n",
    "line = file.readline()\n",
    "restrictions = line.split()\n",
    "maxWeight = int(restrictions[0])\n",
    "maxVolume = int(restrictions[1])\n",
    "\n",
    "data = []\n",
    "line = file.readline()\n",
    "count = 0\n",
    "while line:\n",
    "    data.append(line.split())\n",
    "    line = file.readline()\n",
    "    count += 1\n",
    "\n",
    "file.close()\n",
    "data"
   ]
  },
  {
   "cell_type": "code",
   "execution_count": 132,
   "metadata": {},
   "outputs": [
    {
     "name": "stdout",
     "output_type": "stream",
     "text": [
      "(4684, [1, 0, 1, 1, 0, 1, 1, 0, 1, 1, 1, 1, 1, 0, 0, 0, 1, 0, 1, 0, 1, 1, 0, 1, 0, 0, 0, 1, 0, 0])\n",
      "Value: 4684\n",
      "Weight: 12675\n",
      "Volume: 12.0\n"
     ]
    }
   ],
   "source": [
    "ga = pyeasyga.GeneticAlgorithm(data)       \n",
    "ga.population_size = 10000                 \n",
    "\n",
    "def fitness(individual, data):\n",
    "    weight, volume, price = 0, 0, 0\n",
    "    for (selected, item) in zip(individual, data):\n",
    "        if selected:\n",
    "            weight += int(item[0])\n",
    "            volume += float(item[1])\n",
    "            price += int(item[2])\n",
    "    if weight > maxWeight or volume > maxVolume:\n",
    "        price = 0\n",
    "    return price\n",
    "\n",
    "ga.fitness_function = fitness              \n",
    "ga.run()                              \n",
    "\n",
    "result = ga.best_individual()\n",
    "print(result) \n",
    "\n",
    "totalWeight = 0\n",
    "totalVolume = 0\n",
    "for i in range(count):\n",
    "    if result[1][i] == 1:\n",
    "        totalWeight += int(data[i][0])\n",
    "        totalVolume += float(data[i][1])\n",
    "        \n",
    "print(\"Value: \" + str(result[0]))\n",
    "print(\"Weight: \" + str(totalWeight))\n",
    "print(\"Volume: \" + str(totalVolume))"
   ]
  }
 ],
 "metadata": {
  "kernelspec": {
   "display_name": "Python 3",
   "language": "python",
   "name": "python3"
  },
  "language_info": {
   "codemirror_mode": {
    "name": "ipython",
    "version": 3
   },
   "file_extension": ".py",
   "mimetype": "text/x-python",
   "name": "python",
   "nbconvert_exporter": "python",
   "pygments_lexer": "ipython3",
   "version": "3.8.3"
  }
 },
 "nbformat": 4,
 "nbformat_minor": 4
}
